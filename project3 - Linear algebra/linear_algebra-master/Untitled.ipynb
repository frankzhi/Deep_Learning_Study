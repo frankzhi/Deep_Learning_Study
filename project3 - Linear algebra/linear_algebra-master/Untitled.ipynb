{
 "cells": [
  {
   "cell_type": "code",
   "execution_count": 273,
   "metadata": {},
   "outputs": [
    {
     "name": "stdout",
     "output_type": "stream",
     "text": [
      "[[Decimal('1.0'), Decimal('2.0023'), Decimal('3.0'), Decimal('5.0')], [Decimal('2.0'), Decimal('3.0'), Decimal('3.0'), Decimal('5.0')], [Decimal('1.0'), Decimal('2.0'), Decimal('5.0'), Decimal('1.0')]]\n"
     ]
    }
   ],
   "source": [
    "from decimal import Decimal,getcontext \n",
    "getcontext().prec = 4\n",
    "def matxRound(M, decPts=4):\n",
    "    return [[Decimal(str(round(num,decPts))) for num in row] for row in M]\n",
    "#    [[round(i,decPts)for i in row]for row in M]\n",
    "    \n",
    "\n",
    "b = [[1.0000000,2.0023466,3,5], \n",
    "     [2,3,3,5], \n",
    "     [1,2,5,1]]\n",
    "print matxRound(b)\n"
   ]
  },
  {
   "cell_type": "code",
   "execution_count": 274,
   "metadata": {},
   "outputs": [
    {
     "data": {
      "text/plain": [
       "Decimal('0.1000')"
      ]
     },
     "execution_count": 274,
     "metadata": {},
     "output_type": "execute_result"
    }
   ],
   "source": [
    "import decimal\n",
    "getcontext().prec = 30\n",
    "Decimal(0.1).quantize(Decimal('0.0000'))  "
   ]
  },
  {
   "cell_type": "code",
   "execution_count": 182,
   "metadata": {},
   "outputs": [
    {
     "name": "stdout",
     "output_type": "stream",
     "text": [
      "[[1.66666, 0, 0, 0], [0, 1, 0, 0], [0, 0, 1, 0], [0, 0, 0, 1]]\n",
      "test\n",
      "[[Decimal('1.667'), Decimal('0.0'), Decimal('0.0'), Decimal('0.0')], [Decimal('0.0'), Decimal('1.0'), Decimal('0.0'), Decimal('0.0')], [Decimal('0.0'), Decimal('0.0'), Decimal('1.0'), Decimal('0.0')], [Decimal('0.0'), Decimal('0.0'), Decimal('0.0'), Decimal('1.0')]]\n"
     ]
    }
   ],
   "source": [
    "import unittest\n",
    "import numpy as np\n",
    "\n",
    "from decimal import getcontext, Decimal, ROUND_HALF_UP\n",
    "\n",
    "getcontext().prec = 40\n",
    "getcontext().rounding=ROUND_HALF_UP\n",
    "\n",
    "\n",
    "r,c = np.random.randint(low=1,high=5,size=2)\n",
    "matrix = np.random.random((r,c))\n",
    "\n",
    "def matxRound(m,decPts):\n",
    "    m[:] = [[Decimal(str(round(num,decPts)))for num in row]for row in m]\n",
    "        \n",
    "    \n",
    "mat =[[1.66666,0,0,0],\n",
    "     [0,1,0,0],\n",
    "     [0,0,1,0],\n",
    "     [0,0,0,1]]\n",
    "print mat\n",
    "\n",
    "matxRound(mat,3)\n",
    "\n",
    "print\"test\"\n",
    "print mat\n",
    "\n",
    "\n",
    "\n",
    "\n",
    "\n"
   ]
  },
  {
   "cell_type": "code",
   "execution_count": 80,
   "metadata": {
    "collapsed": true
   },
   "outputs": [],
   "source": [
    "import unittest\n",
    "import numpy as np\n",
    "\n",
    "from decimal import *    \n",
    "    \n",
    "def test_matxRound(self):\n",
    "\n",
    "    for decpts in range(10):\n",
    "        r,c = np.random.randint(low=1,high=25,size=2)\n",
    "        matrix = np.random.random((r,c))\n",
    "\n",
    "        mat = matrix.tolist()\n",
    "        dec_true = [[Decimal(str(round(num,decpts))) for num in row] for row in mat]       \n",
    "       \n",
    "            \n",
    "        matxRound(mat,decpts)\n",
    "        dec_test = [[Decimal(str(num)) for num in row] for row in mat]\n",
    "      \n",
    "            \n",
    "        res = Decimal('0')\n",
    "        for i in range(len(mat)):\n",
    "            for j in range(len(mat[0])):\n",
    "                res += dec_test[i][j].compare_total(dec_true[i][j])\n",
    "\n",
    "                \n",
    "                \n",
    "mat =[[1.66666,0,0,0],\n",
    "     [0,1,0,0],\n",
    "     [0,0,1,0],\n",
    "     [0,0,0,1]]"
   ]
  },
  {
   "cell_type": "code",
   "execution_count": 81,
   "metadata": {},
   "outputs": [
    {
     "name": "stderr",
     "output_type": "stream",
     "text": [
      "F\n",
      "======================================================================\n",
      "FAIL: test_matxRound (__main__.LinearRegressionTestCase)\n",
      "----------------------------------------------------------------------\n",
      "Traceback (most recent call last):\n",
      "  File \"/Users/aixiaoxiao/Desktop/linear_algebra-master/test.py\", line 34, in test_matxRound\n",
      "    self.assertEqual(res,Decimal('0'),'Wrong answer')\n",
      "AssertionError: Wrong answer\n",
      "\n",
      "----------------------------------------------------------------------\n",
      "Ran 1 test in 0.011s\n",
      "\n",
      "FAILED (failures=1)\n"
     ]
    }
   ],
   "source": []
  },
  {
   "cell_type": "code",
   "execution_count": 172,
   "metadata": {},
   "outputs": [
    {
     "name": "stdout",
     "output_type": "stream",
     "text": [
      "[1, 4, 9, 16, 25]\n"
     ]
    }
   ],
   "source": [
    "list=[1,2,3,4,5]\n",
    "def change(l):\n",
    "    l[:] = [i**2 for i in l]\n",
    "\n",
    "\n",
    "change(list)\n",
    "print list"
   ]
  },
  {
   "cell_type": "code",
   "execution_count": 183,
   "metadata": {},
   "outputs": [
    {
     "data": {
      "text/plain": [
       "0"
      ]
     },
     "execution_count": 183,
     "metadata": {},
     "output_type": "execute_result"
    }
   ],
   "source": [
    "1/15"
   ]
  },
  {
   "cell_type": "code",
   "execution_count": 184,
   "metadata": {},
   "outputs": [
    {
     "data": {
      "text/plain": [
       "0.06666666666666667"
      ]
     },
     "execution_count": 184,
     "metadata": {},
     "output_type": "execute_result"
    }
   ],
   "source": [
    "1.0/15"
   ]
  },
  {
   "cell_type": "code",
   "execution_count": 271,
   "metadata": {
    "collapsed": true
   },
   "outputs": [],
   "source": [
    "import unittest\n",
    "import numpy as np\n",
    "\n",
    "from decimal import *\n",
    "\n",
    "\n",
    "def test_gj_Solve(self):\n",
    "\n",
    "    for _ in range(2):\n",
    "        r =3\n",
    "        A = np.random.randint(low=-10,high=10,size=(r,r))\n",
    "        b = np.arange(r).reshape((r,1))\n",
    "        print'a= {}'.format(A) \n",
    "        print '\\n'\n",
    "        print'b= {}'.format(b)\n",
    "        print'\\n'\n",
    "\n",
    "#             x = gj_Solve(A.tolist(),b.tolist(),epsilon=1.0e-8)\n",
    "\n",
    "#             if np.linalg.matrix_rank(A) < r:\n",
    "#                 self.assertEqual(x,None,\"Matrix A is singular\")\n",
    "        \n",
    "       \n",
    "#             self.assertEqual(np.array(x).shape,(r,1),\"Expected shape({},1), but got shape{}\".format(r,np.array(x).shape))\n",
    "#             Ax = np.dot(A,np.array(x))\n",
    "#             loss = np.mean((Ax - b)**2)\n",
    "            \n",
    "#             self.assertTrue(loss<0.1,\"Bad result.\")\n",
    "                \n",
    "    "
   ]
  },
  {
   "cell_type": "code",
   "execution_count": 272,
   "metadata": {},
   "outputs": [
    {
     "name": "stdout",
     "output_type": "stream",
     "text": [
      "a= [[ 0  9 -6]\n",
      " [-9 -8 -6]\n",
      " [-7 -8 -9]]\n",
      "\n",
      "\n",
      "b= [[0]\n",
      " [1]\n",
      " [2]]\n",
      "\n",
      "\n",
      "a= [[-5  6  0]\n",
      " [ 9 -4 -4]\n",
      " [ 1  2 -9]]\n",
      "\n",
      "\n",
      "b= [[0]\n",
      " [1]\n",
      " [2]]\n",
      "\n",
      "\n",
      "None\n"
     ]
    }
   ],
   "source": [
    "print test_gj_Solve(1)"
   ]
  },
  {
   "cell_type": "code",
   "execution_count": 270,
   "metadata": {},
   "outputs": [
    {
     "name": "stdout",
     "output_type": "stream",
     "text": [
      "gogogo\n",
      "m[j][k]: 2\n",
      "m[j][i]: 5\n",
      "[[1, 1, 5, -38], [0, 1, 4, 7], [0, 0, 1, 8]]\n",
      "m[j][k]: 5\n",
      "m[j][i]: 5\n",
      "[[1, 1, 0, -38], [0, 1, 4, 7], [0, 0, 1, 8]]\n",
      "m[j][k]: 7\n",
      "m[j][i]: 4\n",
      "[[1, 1, 0, -38], [0, 1, 4, -25], [0, 0, 1, 8]]\n",
      "m[j][k]: 4\n",
      "m[j][i]: 4\n",
      "[[1, 1, 0, -38], [0, 1, 0, -25], [0, 0, 1, 8]]\n",
      "gogogo\n",
      "m[j][k]: -38\n",
      "m[j][i]: 1\n",
      "[[1, 1, 0, -13], [0, 1, 0, -25], [0, 0, 1, 8]]\n",
      "m[j][k]: 0\n",
      "m[j][i]: 1\n",
      "[[1, 1, 0, -13], [0, 1, 0, -25], [0, 0, 1, 8]]\n",
      "m[j][k]: 1\n",
      "m[j][i]: 1\n",
      "[[1, 0, 0, -13], [0, 1, 0, -25], [0, 0, 1, 8]]\n",
      "gogogo\n",
      "[[1, 0, 0, -13], [0, 1, 0, -25], [0, 0, 1, 8]]\n"
     ]
    }
   ],
   "source": [
    "def printL(m):\n",
    "    h = len(m)\n",
    "    w = len(m[0])\n",
    "    for i in range (0,h)[::-1]:\n",
    "        print'gogogo'\n",
    "        for j in range(0,i):\n",
    "            for k in range (i,w)[::-1]:\n",
    "                print'm[j][k]: {}'.format(m[j][k])\n",
    "                print'm[j][i]: {}'.format(m[j][i])\n",
    "\n",
    "                m[j][k] -= m[j][i]*m[i][k]\n",
    "                print m\n",
    "    return m       \n",
    "\n",
    "A= [[1,1,5,2],\n",
    "    [0,1,4,7],\n",
    "    [0,0,1,8]]        \n",
    "\n",
    "print printL(A)"
   ]
  },
  {
   "cell_type": "code",
   "execution_count": 275,
   "metadata": {},
   "outputs": [
    {
     "name": "stdout",
     "output_type": "stream",
     "text": [
      "a\n"
     ]
    }
   ],
   "source": [
    "print 'a'"
   ]
  },
  {
   "cell_type": "code",
   "execution_count": null,
   "metadata": {
    "collapsed": true
   },
   "outputs": [],
   "source": []
  }
 ],
 "metadata": {
  "kernelspec": {
   "display_name": "Python 2",
   "language": "python",
   "name": "python2"
  },
  "language_info": {
   "codemirror_mode": {
    "name": "ipython",
    "version": 2
   },
   "file_extension": ".py",
   "mimetype": "text/x-python",
   "name": "python",
   "nbconvert_exporter": "python",
   "pygments_lexer": "ipython2",
   "version": "2.7.14"
  }
 },
 "nbformat": 4,
 "nbformat_minor": 2
}
